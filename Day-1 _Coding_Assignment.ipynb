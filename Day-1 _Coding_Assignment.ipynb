{
  "metadata": {
    "kernelspec": {
      "name": "python",
      "display_name": "Python (Pyodide)",
      "language": "python"
    },
    "language_info": {
      "codemirror_mode": {
        "name": "python",
        "version": 3
      },
      "file_extension": ".py",
      "mimetype": "text/x-python",
      "name": "python",
      "nbconvert_exporter": "python",
      "pygments_lexer": "ipython3",
      "version": "3.8"
    }
  },
  "nbformat_minor": 5,
  "nbformat": 4,
  "cells": [
    {
      "id": "02787a5d-7e03-4a61-8b83-134a4ad268cb",
      "cell_type": "code",
      "source": "integer_var = 42          \nfloat_var = 3.14          \nstring_var = \"Hello, World!\"  \nboolean_var = True       \n\nprint(f\"Integer Variable: {integer_var}, Type: {type(integer_var)}\")\nprint(f\"Float Variable: {float_var}, Type: {type(float_var)}\")\nprint(f\"String Variable: {string_var}, Type: {type(string_var)}\")\nprint(f\"Boolean Variable: {boolean_var}, Type: {type(boolean_var)}\")\n",
      "metadata": {
        "trusted": true
      },
      "outputs": [
        {
          "name": "stdout",
          "output_type": "stream",
          "text": "Integer Variable: 42, Type: <class 'int'>\nFloat Variable: 3.14, Type: <class 'float'>\nString Variable: Hello, World!, Type: <class 'str'>\nBoolean Variable: True, Type: <class 'bool'>\n"
        }
      ],
      "execution_count": 1
    },
    {
      "id": "25f6a06d-4012-4d70-a9b0-1f487a53afb7",
      "cell_type": "code",
      "source": "",
      "metadata": {
        "trusted": true
      },
      "outputs": [],
      "execution_count": null
    }
  ]
}