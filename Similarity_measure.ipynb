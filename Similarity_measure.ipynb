{
  "metadata": {
    "kernelspec": {
      "name": "python",
      "display_name": "Python (Pyodide)",
      "language": "python"
    },
    "language_info": {
      "codemirror_mode": {
        "name": "python",
        "version": 3
      },
      "file_extension": ".py",
      "mimetype": "text/x-python",
      "name": "python",
      "nbconvert_exporter": "python",
      "pygments_lexer": "ipython3",
      "version": "3.8"
    }
  },
  "nbformat_minor": 5,
  "nbformat": 4,
  "cells": [
    {
      "id": "cfd16d92-14a8-4a23-b94a-9e159fc832c0",
      "cell_type": "code",
      "source": "import numpy as np \nfrom scipy.spatial.distance import cosine, euclidean \nfrom scipy.stats import pearsonr",
      "metadata": {
        "trusted": true
      },
      "outputs": [],
      "execution_count": 1
    },
    {
      "id": "b25eb2bb-2743-4bb9-a59e-28aca411c210",
      "cell_type": "code",
      "source": "user1 = np.array([4, 5, 2, 3, 4])\nuser2 = np.array([5, 3, 2, 4, 5])",
      "metadata": {
        "trusted": true
      },
      "outputs": [],
      "execution_count": 3
    },
    {
      "id": "27ad3282-1b0b-4cb1-97cc-423da1448968",
      "cell_type": "code",
      "source": "cosine_similarity = 1 - cosine(user1, user2)\nprint(f\"Cosine Similarity: {cosine_similarity:.4f}\")",
      "metadata": {
        "trusted": true
      },
      "outputs": [
        {
          "name": "stdout",
          "output_type": "stream",
          "text": "Cosine Similarity: 0.9548\n"
        }
      ],
      "execution_count": 4
    },
    {
      "id": "1f1ebedc-0c94-4d36-ae90-9fbae0b4cb79",
      "cell_type": "code",
      "source": "pearson_corr, _ = pearsonr(user1, user2)\nprint(f\"Pearson Correlation Similarity: {pearson_corr:.4f}\")",
      "metadata": {
        "trusted": true
      },
      "outputs": [
        {
          "name": "stdout",
          "output_type": "stream",
          "text": "Pearson Correlation Similarity: 0.4372\n"
        }
      ],
      "execution_count": 6
    },
    {
      "id": "770537c5-2e77-4f5e-88f2-421a40b6a451",
      "cell_type": "code",
      "source": "euclidean_distance = euclidean(user1, user2)\neuclidean_similarity = 1 / (1 + euclidean_distance)\nprint(f\"Euclidean Distance Similarity: {euclidean_similarity:.4f}\")",
      "metadata": {
        "trusted": true
      },
      "outputs": [
        {
          "name": "stdout",
          "output_type": "stream",
          "text": "Euclidean Distance Similarity: 0.2743\n"
        }
      ],
      "execution_count": 10
    },
    {
      "id": "fd6dab4f-f219-459d-9485-358ce2dcf873",
      "cell_type": "code",
      "source": "import numpy as np\nimport pandas as pd\nfrom scipy.spatial.distance import cosine, euclidean\nfrom scipy.stats import pearsonr\n\n#User-item rating matrix for 4 users\nratings = np.array([\n    [5, 3, 4, 4, 2],  # User A\n    [3, 1, 2, 3, 3],  # User B\n    [4, 3, 4, 5, 1],  # User C\n    [2, 2, 1, 2, 4]   # User D\n])\n\nusers = [\"Raju\", \"John\", \"Ramya\", \"Kishore\"]\ndf = pd.DataFrame(ratings, index=users, columns=[\"Bahubali\",\"Mufasa\",\"Interstellar\",\"RRR\",\"Mrs\"])\nprint(df)\n\n# Function to compute similarity\ndef compute_similarity(df):\n    num_users = df.shape[0]\n    similarity_results = []\n\n    for i in range(num_users):\n        for j in range(i + 1, num_users):  # Avoid redundant pairs\n            user1, user2 = df.iloc[i], df.iloc[j]\n\n            # Cosine Similarity\n            cos_sim = 1 - cosine(user1, user2)\n\n            # Pearson Correlation Similarity\n            pearson_sim, _ = pearsonr(user1, user2)\n\n            # Euclidean Distance Similarity\n            euc_dist = euclidean(user1, user2)\n            euc_sim = 1 / (1 + euc_dist)  # Normalize to [0,1]\n\n            similarity_results.append([users[i], users[j], cos_sim, pearson_sim, euc_sim])\n\n    return pd.DataFrame(similarity_results, columns=[\"User 1\", \"User 2\", \"Cosine Similarity\", \"Pearson Correlation\", \"Euclidean Similarity\"])\n\n# Compute similarity matrix\nsimilarity_df = compute_similarity(df)\n\n# Display results\nprint(similarity_df)",
      "metadata": {
        "trusted": true
      },
      "outputs": [
        {
          "name": "stdout",
          "output_type": "stream",
          "text": "         Bahubali  Mufasa  Interstellar  RRR  Mrs\nRaju            5       3             4    4    2\nJohn            3       1             2    3    3\nRamya           4       3             4    5    1\nKishore         2       2             1    2    4\n  User 1   User 2  Cosine Similarity  Pearson Correlation  \\\n0   Raju     John           0.929670             0.196116   \n1   Raju    Ramya           0.978337             0.838557   \n2   Raju  Kishore           0.799014            -0.720577   \n3   John    Ramya           0.885465             0.036860   \n4   John  Kishore           0.919145             0.408248   \n5  Ramya  Kishore           0.725961            -0.812605   \n\n   Euclidean Similarity  \n0              0.210897  \n1              0.366025  \n2              0.161390  \n3              0.195194  \n4              0.309017  \n5              0.150221  \n"
        }
      ],
      "execution_count": 12
    },
    {
      "id": "522b49dc-09ad-4ead-8eaa-16f99b5ec724",
      "cell_type": "code",
      "source": "",
      "metadata": {
        "trusted": true
      },
      "outputs": [],
      "execution_count": null
    }
  ]
}