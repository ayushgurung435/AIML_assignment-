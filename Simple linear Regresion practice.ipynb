{
  "metadata": {
    "kernelspec": {
      "name": "python",
      "display_name": "Python (Pyodide)",
      "language": "python"
    },
    "language_info": {
      "codemirror_mode": {
        "name": "python",
        "version": 3
      },
      "file_extension": ".py",
      "mimetype": "text/x-python",
      "name": "python",
      "nbconvert_exporter": "python",
      "pygments_lexer": "ipython3",
      "version": "3.8"
    }
  },
  "nbformat_minor": 5,
  "nbformat": 4,
  "cells": [
    {
      "id": "78b3e043-d435-42a7-9b8e-e4cca5bd9ff5",
      "cell_type": "markdown",
      "source": "Multilinear regression, commonly referred to as multiple linear regression, is a statistical technique that models the relationship between two or mor and a response variable by fitting a linear equation to observed data. Essentially, it extends the simple linear regression model to incorporate multipl providing a way to evaluate how multiple factors impact the outcome. \nAssumptions in Multilinear Regression \n1. Linearity: The relationship between the predictors and the response is linear. \n2. Independence: Observations are independent of each other. \n3. Homoscedasticity: The residuals (differences between observed and predicted values) exhibit constant variance at all levels of the predictor. \n4. Normal Distribution of Errors: The residuals of the model are normally distributed. \n5. No multicollinearity: The independent variables should not be too highly correlated with each other \nViolations of these assumptions may lead to inefficiency in the regression parameters and unreliable predictions.\n\nThe general formula for multiple linear regression is:",
      "metadata": {}
    },
    {
      "id": "75ea7b07-483c-4680-b9e0-3d394d99cbc5",
      "cell_type": "code",
      "source": "%pip install seaborn",
      "metadata": {
        "trusted": true
      },
      "outputs": [],
      "execution_count": 3
    },
    {
      "id": "8e6122f4-4332-4a94-87d7-d9ea32b68a62",
      "cell_type": "code",
      "source": "import pandas as pd\nimport matplotlib.pyplot as plt\nimport seaborn as sns\nimport statsmodels.formula.api as smf\nfrom statsmodels.graphics.regressionplots import influence_plot\nimport numpy as np",
      "metadata": {
        "trusted": true
      },
      "outputs": [],
      "execution_count": 8
    },
    {
      "id": "4e8e6b9d-a172-476a-9911-006c344acee0",
      "cell_type": "code",
      "source": "cars = pd.read_csv(\"Cars.csv\")\ncars.head()",
      "metadata": {
        "trusted": true
      },
      "outputs": [
        {
          "execution_count": 9,
          "output_type": "execute_result",
          "data": {
            "text/plain": "   HP        MPG  VOL          SP         WT\n0  49  53.700681   89  104.185353  28.762059\n1  55  50.013401   92  105.461264  30.466833\n2  55  50.013401   92  105.461264  30.193597\n3  70  45.696322   92  113.461264  30.632114\n4  53  50.504232   92  104.461264  29.889149",
            "text/html": "<div>\n<style scoped>\n    .dataframe tbody tr th:only-of-type {\n        vertical-align: middle;\n    }\n\n    .dataframe tbody tr th {\n        vertical-align: top;\n    }\n\n    .dataframe thead th {\n        text-align: right;\n    }\n</style>\n<table border=\"1\" class=\"dataframe\">\n  <thead>\n    <tr style=\"text-align: right;\">\n      <th></th>\n      <th>HP</th>\n      <th>MPG</th>\n      <th>VOL</th>\n      <th>SP</th>\n      <th>WT</th>\n    </tr>\n  </thead>\n  <tbody>\n    <tr>\n      <th>0</th>\n      <td>49</td>\n      <td>53.700681</td>\n      <td>89</td>\n      <td>104.185353</td>\n      <td>28.762059</td>\n    </tr>\n    <tr>\n      <th>1</th>\n      <td>55</td>\n      <td>50.013401</td>\n      <td>92</td>\n      <td>105.461264</td>\n      <td>30.466833</td>\n    </tr>\n    <tr>\n      <th>2</th>\n      <td>55</td>\n      <td>50.013401</td>\n      <td>92</td>\n      <td>105.461264</td>\n      <td>30.193597</td>\n    </tr>\n    <tr>\n      <th>3</th>\n      <td>70</td>\n      <td>45.696322</td>\n      <td>92</td>\n      <td>113.461264</td>\n      <td>30.632114</td>\n    </tr>\n    <tr>\n      <th>4</th>\n      <td>53</td>\n      <td>50.504232</td>\n      <td>92</td>\n      <td>104.461264</td>\n      <td>29.889149</td>\n    </tr>\n  </tbody>\n</table>\n</div>"
          },
          "metadata": {}
        }
      ],
      "execution_count": 9
    },
    {
      "id": "c2ad7778-b82a-407c-88a2-270d6b906e72",
      "cell_type": "code",
      "source": "cars = pd.DataFrame(cars, columns=[\"HP\", \"VOL\",\"SP\", \"WT\", \"MPG\"])\ncars.head()",
      "metadata": {
        "trusted": true
      },
      "outputs": [
        {
          "execution_count": 10,
          "output_type": "execute_result",
          "data": {
            "text/plain": "   HP  VOL          SP         WT        MPG\n0  49   89  104.185353  28.762059  53.700681\n1  55   92  105.461264  30.466833  50.013401\n2  55   92  105.461264  30.193597  50.013401\n3  70   92  113.461264  30.632114  45.696322\n4  53   92  104.461264  29.889149  50.504232",
            "text/html": "<div>\n<style scoped>\n    .dataframe tbody tr th:only-of-type {\n        vertical-align: middle;\n    }\n\n    .dataframe tbody tr th {\n        vertical-align: top;\n    }\n\n    .dataframe thead th {\n        text-align: right;\n    }\n</style>\n<table border=\"1\" class=\"dataframe\">\n  <thead>\n    <tr style=\"text-align: right;\">\n      <th></th>\n      <th>HP</th>\n      <th>VOL</th>\n      <th>SP</th>\n      <th>WT</th>\n      <th>MPG</th>\n    </tr>\n  </thead>\n  <tbody>\n    <tr>\n      <th>0</th>\n      <td>49</td>\n      <td>89</td>\n      <td>104.185353</td>\n      <td>28.762059</td>\n      <td>53.700681</td>\n    </tr>\n    <tr>\n      <th>1</th>\n      <td>55</td>\n      <td>92</td>\n      <td>105.461264</td>\n      <td>30.466833</td>\n      <td>50.013401</td>\n    </tr>\n    <tr>\n      <th>2</th>\n      <td>55</td>\n      <td>92</td>\n      <td>105.461264</td>\n      <td>30.193597</td>\n      <td>50.013401</td>\n    </tr>\n    <tr>\n      <th>3</th>\n      <td>70</td>\n      <td>92</td>\n      <td>113.461264</td>\n      <td>30.632114</td>\n      <td>45.696322</td>\n    </tr>\n    <tr>\n      <th>4</th>\n      <td>53</td>\n      <td>92</td>\n      <td>104.461264</td>\n      <td>29.889149</td>\n      <td>50.504232</td>\n    </tr>\n  </tbody>\n</table>\n</div>"
          },
          "metadata": {}
        }
      ],
      "execution_count": 10
    },
    {
      "id": "869f746d-eeec-443a-97b1-6db6e431224f",
      "cell_type": "markdown",
      "source": "#### Discreption of a car\n- MPG : Milege of the car\n- VOL : Volume of the car (size)\n- SP  : Top speed of the car (Miles per hour)\n- WT  : Weight of the car (Pounds)",
      "metadata": {}
    },
    {
      "id": "1e4b7a78-3c5b-46dd-adbd-48544241bc38",
      "cell_type": "markdown",
      "source": "EDA",
      "metadata": {}
    },
    {
      "id": "93ff8bbe-7092-432f-8820-97cbe6f97a72",
      "cell_type": "code",
      "source": "cars.info()",
      "metadata": {
        "trusted": true
      },
      "outputs": [
        {
          "name": "stdout",
          "output_type": "stream",
          "text": "<class 'pandas.core.frame.DataFrame'>\nRangeIndex: 81 entries, 0 to 80\nData columns (total 5 columns):\n #   Column  Non-Null Count  Dtype  \n---  ------  --------------  -----  \n 0   HP      81 non-null     int64  \n 1   VOL     81 non-null     int64  \n 2   SP      81 non-null     float64\n 3   WT      81 non-null     float64\n 4   MPG     81 non-null     float64\ndtypes: float64(3), int64(2)\nmemory usage: 3.2 KB\n"
        }
      ],
      "execution_count": 11
    },
    {
      "id": "c21a50e3-4e52-4927-8cd1-33f1b852887f",
      "cell_type": "code",
      "source": "cars.isna().sum()",
      "metadata": {
        "trusted": true
      },
      "outputs": [
        {
          "execution_count": 12,
          "output_type": "execute_result",
          "data": {
            "text/plain": "HP     0\nVOL    0\nSP     0\nWT     0\nMPG    0\ndtype: int64"
          },
          "metadata": {}
        }
      ],
      "execution_count": 12
    },
    {
      "id": "4ca2b64e-9c9d-467d-a96e-9c883e8ec0e1",
      "cell_type": "markdown",
      "source": "#### Observation\n- There are no missing values \n- There are 81 observations\n- The data type of the columns are relevent and valid",
      "metadata": {}
    },
    {
      "id": "99d4f406-e636-47a9-b473-a36bfac05d30",
      "cell_type": "code",
      "source": "%pip install seaborn",
      "metadata": {
        "trusted": true
      },
      "outputs": [],
      "execution_count": 17
    },
    {
      "id": "96ab4078-f79e-4705-b9fd-2d6f6f8866e9",
      "cell_type": "code",
      "source": "\nfig, (ax_box, ax_hist) = plt.subplots(2, sharex=True, gridspec_kw={\"height_ratios\": (.15, .85)}) \n \n\nsns.boxplot(data=cars, x='HP', ax=ax_box, orient='h') \nax_box.set(xlabel='') \n\nsns.histplot(data=cars, x='HP', ax=ax_hist, bins=30, kde=True, stat=\"density\") \nax_hist.set(ylabel='Density') \n\n\nplt.tight_layout() \nplt.show() ",
      "metadata": {
        "trusted": true
      },
      "outputs": [
        {
          "output_type": "display_data",
          "data": {
            "text/plain": "<Figure size 640x480 with 2 Axes>",
            "image/png": "[encoded data removed]"
          },
          "metadata": {}
        }
      ],
      "execution_count": 19
    },
    {
      "id": "9f4f35ef-786b-4361-b532-0caa5f4f6932",
      "cell_type": "code",
      "source": "",
      "metadata": {
        "trusted": true
      },
      "outputs": [],
      "execution_count": null
    },
    {
      "id": "08d9c437-04f4-4fc8-8af8-f2eff3f7732b",
      "cell_type": "code",
      "source": "",
      "metadata": {
        "trusted": true
      },
      "outputs": [],
      "execution_count": null
    }
  ]
}