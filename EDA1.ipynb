{
  "metadata": {
    "kernelspec": {
      "name": "python",
      "display_name": "Python (Pyodide)",
      "language": "python"
    },
    "language_info": {
      "codemirror_mode": {
        "name": "python",
        "version": 3
      },
      "file_extension": ".py",
      "mimetype": "text/x-python",
      "name": "python",
      "nbconvert_exporter": "python",
      "pygments_lexer": "ipython3",
      "version": "3.8"
    }
  },
  "nbformat_minor": 5,
  "nbformat": 4,
  "cells": [
    {
      "id": "db0a960a-8a2b-44f8-b062-9836079f54b7",
      "cell_type": "code",
      "source": "data = pd.read_csv(\"data_clean.csv\")\nprint(data)",
      "metadata": {
        "trusted": true
      },
      "outputs": [
        {
          "name": "stdout",
          "output_type": "stream",
          "text": "     Unnamed: 0  Ozone  Solar.R  Wind Temp C Month  Day  Year  Temp Weather\n0             1   41.0    190.0   7.4     67     5    1  2010    67       S\n1             2   36.0    118.0   8.0     72     5    2  2010    72       C\n2             3   12.0    149.0  12.6     74     5    3  2010    74      PS\n3             4   18.0    313.0  11.5     62     5    4  2010    62       S\n4             5    NaN      NaN  14.3     56     5    5  2010    56       S\n..          ...    ...      ...   ...    ...   ...  ...   ...   ...     ...\n153         154   41.0    190.0   7.4     67     5    1  2010    67       C\n154         155   30.0    193.0   6.9     70     9   26  2010    70      PS\n155         156    NaN    145.0  13.2     77     9   27  2010    77       S\n156         157   14.0    191.0  14.3     75     9   28  2010    75       S\n157         158   18.0    131.0   8.0     76     9   29  2010    76       C\n\n[158 rows x 10 columns]\n"
        }
      ],
      "execution_count": 14
    },
    {
      "id": "836f6223-0e4e-4c5e-a8a9-6f242c1b6eef",
      "cell_type": "code",
      "source": "data.info()",
      "metadata": {
        "trusted": true
      },
      "outputs": [
        {
          "name": "stdout",
          "output_type": "stream",
          "text": "<class 'pandas.core.frame.DataFrame'>\nRangeIndex: 158 entries, 0 to 157\nData columns (total 10 columns):\n #   Column      Non-Null Count  Dtype  \n---  ------      --------------  -----  \n 0   Unnamed: 0  158 non-null    int64  \n 1   Ozone       120 non-null    float64\n 2   Solar.R     151 non-null    float64\n 3   Wind        158 non-null    float64\n 4   Temp C      158 non-null    object \n 5   Month       158 non-null    object \n 6   Day         158 non-null    int64  \n 7   Year        158 non-null    int64  \n 8   Temp        158 non-null    int64  \n 9   Weather     155 non-null    object \ndtypes: float64(3), int64(4), object(3)\nmemory usage: 10.6+ KB\n"
        }
      ],
      "execution_count": 15
    },
    {
      "id": "34723881-baaa-4442-9b44-55bc9497e947",
      "cell_type": "code",
      "source": "print(type(data))\nprint(data.shape)\nprint(data.size)",
      "metadata": {
        "trusted": true
      },
      "outputs": [
        {
          "name": "stdout",
          "output_type": "stream",
          "text": "<class 'pandas.core.frame.DataFrame'>\n(158, 10)\n1580\n"
        }
      ],
      "execution_count": 16
    },
    {
      "id": "23394f5c-a838-4137-afc7-5296a9860333",
      "cell_type": "code",
      "source": "data1 = data.drop(['Unnamed: 0',\"Temp C\"], axis = 1)\ndata1",
      "metadata": {
        "trusted": true
      },
      "outputs": [
        {
          "execution_count": 12,
          "output_type": "execute_result",
          "data": {
            "text/plain": "     Ozone  Solar.R  Wind Month  Day  Year  Temp Weather\n0     41.0    190.0   7.4     5    1  2010    67       S\n1     36.0    118.0   8.0     5    2  2010    72       C\n2     12.0    149.0  12.6     5    3  2010    74      PS\n3     18.0    313.0  11.5     5    4  2010    62       S\n4      NaN      NaN  14.3     5    5  2010    56       S\n..     ...      ...   ...   ...  ...   ...   ...     ...\n153   41.0    190.0   7.4     5    1  2010    67       C\n154   30.0    193.0   6.9     9   26  2010    70      PS\n155    NaN    145.0  13.2     9   27  2010    77       S\n156   14.0    191.0  14.3     9   28  2010    75       S\n157   18.0    131.0   8.0     9   29  2010    76       C\n\n[158 rows x 8 columns]",
            "text/html": "<div>\n<style scoped>\n    .dataframe tbody tr th:only-of-type {\n        vertical-align: middle;\n    }\n\n    .dataframe tbody tr th {\n        vertical-align: top;\n    }\n\n    .dataframe thead th {\n        text-align: right;\n    }\n</style>\n<table border=\"1\" class=\"dataframe\">\n  <thead>\n    <tr style=\"text-align: right;\">\n      <th></th>\n      <th>Ozone</th>\n      <th>Solar.R</th>\n      <th>Wind</th>\n      <th>Month</th>\n      <th>Day</th>\n      <th>Year</th>\n      <th>Temp</th>\n      <th>Weather</th>\n    </tr>\n  </thead>\n  <tbody>\n    <tr>\n      <th>0</th>\n      <td>41.0</td>\n      <td>190.0</td>\n      <td>7.4</td>\n      <td>5</td>\n      <td>1</td>\n      <td>2010</td>\n      <td>67</td>\n      <td>S</td>\n    </tr>\n    <tr>\n      <th>1</th>\n      <td>36.0</td>\n      <td>118.0</td>\n      <td>8.0</td>\n      <td>5</td>\n      <td>2</td>\n      <td>2010</td>\n      <td>72</td>\n      <td>C</td>\n    </tr>\n    <tr>\n      <th>2</th>\n      <td>12.0</td>\n      <td>149.0</td>\n      <td>12.6</td>\n      <td>5</td>\n      <td>3</td>\n      <td>2010</td>\n      <td>74</td>\n      <td>PS</td>\n    </tr>\n    <tr>\n      <th>3</th>\n      <td>18.0</td>\n      <td>313.0</td>\n      <td>11.5</td>\n      <td>5</td>\n      <td>4</td>\n      <td>2010</td>\n      <td>62</td>\n      <td>S</td>\n    </tr>\n    <tr>\n      <th>4</th>\n      <td>NaN</td>\n      <td>NaN</td>\n      <td>14.3</td>\n      <td>5</td>\n      <td>5</td>\n      <td>2010</td>\n      <td>56</td>\n      <td>S</td>\n    </tr>\n    <tr>\n      <th>...</th>\n      <td>...</td>\n      <td>...</td>\n      <td>...</td>\n      <td>...</td>\n      <td>...</td>\n      <td>...</td>\n      <td>...</td>\n      <td>...</td>\n    </tr>\n    <tr>\n      <th>153</th>\n      <td>41.0</td>\n      <td>190.0</td>\n      <td>7.4</td>\n      <td>5</td>\n      <td>1</td>\n      <td>2010</td>\n      <td>67</td>\n      <td>C</td>\n    </tr>\n    <tr>\n      <th>154</th>\n      <td>30.0</td>\n      <td>193.0</td>\n      <td>6.9</td>\n      <td>9</td>\n      <td>26</td>\n      <td>2010</td>\n      <td>70</td>\n      <td>PS</td>\n    </tr>\n    <tr>\n      <th>155</th>\n      <td>NaN</td>\n      <td>145.0</td>\n      <td>13.2</td>\n      <td>9</td>\n      <td>27</td>\n      <td>2010</td>\n      <td>77</td>\n      <td>S</td>\n    </tr>\n    <tr>\n      <th>156</th>\n      <td>14.0</td>\n      <td>191.0</td>\n      <td>14.3</td>\n      <td>9</td>\n      <td>28</td>\n      <td>2010</td>\n      <td>75</td>\n      <td>S</td>\n    </tr>\n    <tr>\n      <th>157</th>\n      <td>18.0</td>\n      <td>131.0</td>\n      <td>8.0</td>\n      <td>9</td>\n      <td>29</td>\n      <td>2010</td>\n      <td>76</td>\n      <td>C</td>\n    </tr>\n  </tbody>\n</table>\n<p>158 rows × 8 columns</p>\n</div>"
          },
          "metadata": {}
        }
      ],
      "execution_count": 12
    },
    {
      "id": "20798068-e7d9-43f7-964e-25c097995422",
      "cell_type": "code",
      "source": "data1['Month']=pd.to_numeric(data['Month'],errors='coerce')\ndata1.info()",
      "metadata": {
        "trusted": true
      },
      "outputs": [
        {
          "name": "stdout",
          "output_type": "stream",
          "text": "<class 'pandas.core.frame.DataFrame'>\nRangeIndex: 158 entries, 0 to 157\nData columns (total 8 columns):\n #   Column   Non-Null Count  Dtype  \n---  ------   --------------  -----  \n 0   Ozone    120 non-null    float64\n 1   Solar.R  151 non-null    float64\n 2   Wind     158 non-null    float64\n 3   Month    157 non-null    float64\n 4   Day      158 non-null    int64  \n 5   Year     158 non-null    int64  \n 6   Temp     158 non-null    int64  \n 7   Weather  155 non-null    object \ndtypes: float64(4), int64(3), object(1)\nmemory usage: 9.3+ KB\n"
        }
      ],
      "execution_count": 20
    },
    {
      "id": "2278061e-2090-4ef1-8d64-9c1fdf30f4cd",
      "cell_type": "code",
      "source": "data1[data1.duplicated(keep = False)]",
      "metadata": {
        "trusted": true
      },
      "outputs": [
        {
          "execution_count": 22,
          "output_type": "execute_result",
          "data": {
            "text/plain": "     Ozone  Solar.R  Wind  Month  Day  Year  Temp Weather\n150   14.0    191.0  14.3    9.0   28  2010    75       S\n156   14.0    191.0  14.3    9.0   28  2010    75       S",
            "text/html": "<div>\n<style scoped>\n    .dataframe tbody tr th:only-of-type {\n        vertical-align: middle;\n    }\n\n    .dataframe tbody tr th {\n        vertical-align: top;\n    }\n\n    .dataframe thead th {\n        text-align: right;\n    }\n</style>\n<table border=\"1\" class=\"dataframe\">\n  <thead>\n    <tr style=\"text-align: right;\">\n      <th></th>\n      <th>Ozone</th>\n      <th>Solar.R</th>\n      <th>Wind</th>\n      <th>Month</th>\n      <th>Day</th>\n      <th>Year</th>\n      <th>Temp</th>\n      <th>Weather</th>\n    </tr>\n  </thead>\n  <tbody>\n    <tr>\n      <th>150</th>\n      <td>14.0</td>\n      <td>191.0</td>\n      <td>14.3</td>\n      <td>9.0</td>\n      <td>28</td>\n      <td>2010</td>\n      <td>75</td>\n      <td>S</td>\n    </tr>\n    <tr>\n      <th>156</th>\n      <td>14.0</td>\n      <td>191.0</td>\n      <td>14.3</td>\n      <td>9.0</td>\n      <td>28</td>\n      <td>2010</td>\n      <td>75</td>\n      <td>S</td>\n    </tr>\n  </tbody>\n</table>\n</div>"
          },
          "metadata": {}
        }
      ],
      "execution_count": 22
    },
    {
      "id": "ca5e3d8d-2723-45ae-8ac6-ef46cc7fdeff",
      "cell_type": "code",
      "source": "data1[data1.duplicated()]",
      "metadata": {
        "trusted": true
      },
      "outputs": [
        {
          "execution_count": 23,
          "output_type": "execute_result",
          "data": {
            "text/plain": "     Ozone  Solar.R  Wind  Month  Day  Year  Temp Weather\n156   14.0    191.0  14.3    9.0   28  2010    75       S",
            "text/html": "<div>\n<style scoped>\n    .dataframe tbody tr th:only-of-type {\n        vertical-align: middle;\n    }\n\n    .dataframe tbody tr th {\n        vertical-align: top;\n    }\n\n    .dataframe thead th {\n        text-align: right;\n    }\n</style>\n<table border=\"1\" class=\"dataframe\">\n  <thead>\n    <tr style=\"text-align: right;\">\n      <th></th>\n      <th>Ozone</th>\n      <th>Solar.R</th>\n      <th>Wind</th>\n      <th>Month</th>\n      <th>Day</th>\n      <th>Year</th>\n      <th>Temp</th>\n      <th>Weather</th>\n    </tr>\n  </thead>\n  <tbody>\n    <tr>\n      <th>156</th>\n      <td>14.0</td>\n      <td>191.0</td>\n      <td>14.3</td>\n      <td>9.0</td>\n      <td>28</td>\n      <td>2010</td>\n      <td>75</td>\n      <td>S</td>\n    </tr>\n  </tbody>\n</table>\n</div>"
          },
          "metadata": {}
        }
      ],
      "execution_count": 23
    },
    {
      "id": "a18f1cfa-36a8-4908-b888-aae0dd9a350b",
      "cell_type": "code",
      "source": "",
      "metadata": {
        "trusted": true
      },
      "outputs": [],
      "execution_count": null
    }
  ]
}