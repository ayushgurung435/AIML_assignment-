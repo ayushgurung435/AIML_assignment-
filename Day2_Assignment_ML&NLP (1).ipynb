{
  "metadata": {
    "kernelspec": {
      "name": "python",
      "display_name": "Python (Pyodide)",
      "language": "python"
    },
    "language_info": {
      "codemirror_mode": {
        "name": "python",
        "version": 3
      },
      "file_extension": ".py",
      "mimetype": "text/x-python",
      "name": "python",
      "nbconvert_exporter": "python",
      "pygments_lexer": "ipython3",
      "version": "3.8"
    }
  },
  "nbformat_minor": 5,
  "nbformat": 4,
  "cells": [
    {
      "id": "43efcd7c-f3f8-4e70-99f7-8514520ea322",
      "cell_type": "code",
      "source": "my_list = [10, 20, 30, 40, 50]\n\nprint(my_list[0])  \nprint(my_list[2])  \nprint(my_list[-1]) \n",
      "metadata": {
        "trusted": true
      },
      "outputs": [
        {
          "name": "stdout",
          "output_type": "stream",
          "text": "10\n30\n50\n"
        }
      ],
      "execution_count": 1
    },
    {
      "id": "5bbe6a08-2397-4124-a912-1d60d2a58b55",
      "cell_type": "code",
      "source": "my_tuple = ('apple', 'banana', 'cherry', 'date', 'elderberry')\n\nprint(my_tuple[1])  \nprint(my_tuple[3])  \nprint(my_tuple[-2]) \n",
      "metadata": {
        "trusted": true
      },
      "outputs": [
        {
          "name": "stdout",
          "output_type": "stream",
          "text": "banana\ndate\ndate\n"
        }
      ],
      "execution_count": 2
    },
    {
      "id": "639a4044-f903-4aed-a9fd-f44d5c718126",
      "cell_type": "code",
      "source": "my_dict = {\n    'Name': 'Alice',\n    'Age': 25,\n    'City': 'New York',\n    'Salary': 60000,\n    'Purchased': True\n}\n\nprint(my_dict['Name']) \nprint(my_dict['City'])  \nprint(my_dict.get('Age')) \n",
      "metadata": {
        "trusted": true
      },
      "outputs": [
        {
          "name": "stdout",
          "output_type": "stream",
          "text": "Alice\nNew York\n25\n"
        }
      ],
      "execution_count": 3
    },
    {
      "id": "01d688c2-4a23-4921-a54e-bb98ea8ae425",
      "cell_type": "code",
      "source": "",
      "metadata": {
        "trusted": true
      },
      "outputs": [],
      "execution_count": null
    }
  ]
}